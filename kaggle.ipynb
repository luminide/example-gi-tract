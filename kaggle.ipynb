{
 "cells": [
  {
   "cell_type": "markdown",
   "metadata": {},
   "source": [
    "### This should be run on the Kaggle platform to submit an entry"
   ]
  },
  {
   "cell_type": "code",
   "execution_count": null,
   "metadata": {},
   "outputs": [],
   "source": [
    "import os\n",
    "import sys\n",
    "import requests\n",
    "from glob import glob\n",
    "\n",
    "if not os.path.exists('../input/wheels3'):\n",
    "    notebook_url = 'https://www.kaggle.com/luminide/wheels3'\n",
    "    print(f'Run this on Kaggle after adding the notebook output of {notebook_url} as Data')\n",
    "    sys.exit()\n",
    "\n",
    "if not os.path.exists('../input/kagglecode1'):\n",
    "    dataset_url = 'https://www.kaggle.com/<kaggle_username>/kagglecode1'\n",
    "    print(f'Your dataset at {dataset_url} should be added as Data')\n",
    "    sys.exit()\n",
    "\n",
    "def internet_enabled():\n",
    "    try:\n",
    "        requests.get('https://kaggle.com', timeout=1)\n",
    "        return True\n",
    "    except:\n",
    "        return False\n",
    "\n",
    "# network access is not allowed in code competitions\n",
    "if internet_enabled():\n",
    "    print('Turn off Internet connection on this Kaggle notebook and retry')\n",
    "    sys.exit()\n",
    "    \n",
    "# this is to install packages on kaggle without using an internet connection\n",
    "!pip install -q --no-index --find-links ../input/wheels3 ../input/wheels3/segmentation_models_pytorch-0.2.1-py3-none-any.whl\n",
    "\n",
    "sys.path.append('../input/kagglecode1')\n",
    "from inference import run\n",
    "\n",
    "train_csv_paths = glob('../input/*/train.csv')\n",
    "if len(train_csv_paths) == 0:\n",
    "    print('Could not find dataset with train.csv')\n",
    "    sys.exit()\n",
    "    \n",
    "input_dir = os.path.dirname(train_csv_paths[0])\n",
    "model_dir = '../input/kagglecode1'\n",
    "\n",
    "print('Running inference...')\n",
    "test_thresh = 0.5\n",
    "\n",
    "model_files = sorted(glob(f'{model_dir}/model*.pth'))\n",
    "run(input_dir, model_files, test_thresh)"
   ]
  },
  {
   "cell_type": "code",
   "execution_count": null,
   "metadata": {},
   "outputs": [],
   "source": []
  }
 ],
 "metadata": {
  "kernelspec": {
   "display_name": "Python 3 (ipykernel)",
   "language": "python",
   "name": "python3"
  },
  "language_info": {
   "codemirror_mode": {
    "name": "ipython",
    "version": 3
   },
   "file_extension": ".py",
   "mimetype": "text/x-python",
   "name": "python",
   "nbconvert_exporter": "python",
   "pygments_lexer": "ipython3",
   "version": "3.8.10"
  }
 },
 "nbformat": 4,
 "nbformat_minor": 4
}
