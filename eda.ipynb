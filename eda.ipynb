{
 "cells": [
  {
   "cell_type": "code",
   "execution_count": null,
   "id": "bd553cb0",
   "metadata": {},
   "outputs": [],
   "source": [
    "import numpy as np\n",
    "import pandas as pd\n",
    "import seaborn as sns\n",
    "from matplotlib import pyplot as plt\n",
    "from util import get_class_names\n",
    "\n",
    "input_dir = '../input'\n",
    "df = pd.read_csv(f'{input_dir}/train.csv', dtype=str)\n",
    "class_names = get_class_names(df)\n",
    "df.head()"
   ]
  },
  {
   "cell_type": "markdown",
   "id": "82a3388c-65cd-470e-8f1f-4d486cd62293",
   "metadata": {},
   "source": [
    "### Sample images"
   ]
  },
  {
   "cell_type": "code",
   "execution_count": null,
   "id": "b8326b8b",
   "metadata": {},
   "outputs": [],
   "source": [
    "import os\n",
    "import cv2\n",
    "\n",
    "df = pd.read_csv('train_processed.csv', dtype=str)\n",
    "\n",
    "# display this many samples\n",
    "count = 10\n",
    "\n",
    "inds = np.arange(df.shape[0])\n",
    "np.random.shuffle(inds)\n",
    "inds = inds[:count]\n",
    "\n",
    "# plot images\n",
    "fig = plt.figure(figsize=(20, 20))\n",
    "ax = fig.subplots(1, count)\n",
    "for i, idx in enumerate(inds):\n",
    "    filename = df.iloc[idx]['img_files']\n",
    "    im = cv2.imread(f'{input_dir}/train/{filename}', cv2.IMREAD_UNCHANGED)\n",
    "    ax[i].imshow(im)\n",
    "plt.show()\n",
    "\n",
    "# plot corresponding masks\n",
    "mask_dir = '../masks'\n",
    "fig = plt.figure(figsize=(20, 20))\n",
    "ax = fig.subplots(1, count)\n",
    "for i, idx in enumerate(inds):\n",
    "    filename = df.iloc[idx]['img_files']\n",
    "    im = cv2.imread(f'{mask_dir}/{filename}', cv2.IMREAD_UNCHANGED)\n",
    "    im *= 255\n",
    "    ax[i].imshow(im)\n",
    "plt.show()"
   ]
  },
  {
   "cell_type": "markdown",
   "id": "adfc934b-4e5b-4e97-a0f5-ee648fbc22ad",
   "metadata": {},
   "source": [
    "### Check transformations"
   ]
  },
  {
   "cell_type": "code",
   "execution_count": null,
   "id": "2468d718-2b29-4c1d-96d4-b07e88bb5b4d",
   "metadata": {},
   "outputs": [],
   "source": [
    "import torch\n",
    "    \n",
    "from train import Trainer\n",
    "from config import Config\n",
    "from util import visualize\n",
    "\n",
    "conf = Config()\n",
    "device = torch.device('cpu')\n",
    "conf.batch_size = 16\n",
    "trainer = Trainer(conf, input_dir, device, 1, None)\n",
    "loader = trainer.train_loader\n",
    "images, labels = iter(loader).next()\n",
    "\n",
    "images = images.numpy()\n",
    "labels = labels.numpy()\n",
    "start_slc = conf.num_slices//2 - 1\n",
    "for image, label in zip(images, labels):\n",
    "    image = image[start_slc:start_slc + 3]\n",
    "    overlay = 0.7*image + 0.3*label\n",
    "    visualize(image=image, label=label, overlay=overlay)"
   ]
  }
 ],
 "metadata": {
  "kernelspec": {
   "display_name": "Python 3 (ipykernel)",
   "language": "python",
   "name": "python3"
  },
  "language_info": {
   "codemirror_mode": {
    "name": "ipython",
    "version": 3
   },
   "file_extension": ".py",
   "mimetype": "text/x-python",
   "name": "python",
   "nbconvert_exporter": "python",
   "pygments_lexer": "ipython3",
   "version": "3.8.10"
  }
 },
 "nbformat": 4,
 "nbformat_minor": 5
}
