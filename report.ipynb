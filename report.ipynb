{
 "cells": [
  {
   "cell_type": "markdown",
   "metadata": {},
   "source": [
    "## Training progress"
   ]
  },
  {
   "cell_type": "code",
   "execution_count": null,
   "metadata": {},
   "outputs": [],
   "source": [
    "import sys\n",
    "import os\n",
    "import pandas as pd\n",
    "\n",
    "working_dir = '../output'\n",
    "history_file = f'{working_dir}/history.csv'\n",
    "if not os.path.exists(history_file):\n",
    "    print(f'{history_file} not found')\n",
    "    print('must train a model before running this')\n",
    "    sys.exit()\n",
    "    \n",
    "df = pd.read_csv(history_file)\n",
    "\n",
    "train_loss = []\n",
    "val_loss = []\n",
    "for _, group in df.groupby('epoch'):\n",
    "    train_loss.append(group['train_loss'].mean())\n",
    "    val_loss.append(group['epoch_val_loss'].mean())\n",
    "\n",
    "loss_df = pd.DataFrame({'Training loss': train_loss, 'Validation loss': val_loss})\n",
    "min_val_loss = df['epoch_val_loss'].min()\n",
    "plots = loss_df.plot(xlabel='Epoch', grid=True, title=f'Minimum validation loss {min_val_loss:.4f}')"
   ]
  },
  {
   "cell_type": "markdown",
   "metadata": {},
   "source": [
    "## Predictions on sample validation images"
   ]
  },
  {
   "cell_type": "code",
   "execution_count": null,
   "metadata": {},
   "outputs": [],
   "source": [
    "import torch\n",
    "from torch import nn\n",
    "from glob import glob\n",
    "import re\n",
    "\n",
    "import numpy as np\n",
    "from util import visualize\n",
    "from train import Trainer\n",
    "from config import Config\n",
    "\n",
    "device = torch.device('cpu')\n",
    "input_dir = '../input'\n",
    "model_files = glob('model*.pth')\n",
    "# find the latest model\n",
    "model_id = 0\n",
    "nums = list(map(int, re.findall('\\d+', ' '.join(model_files))))\n",
    "if len(nums) > 0:\n",
    "    model_id = np.max(nums)\n",
    "model_file = f'model{model_id}.pth'\n",
    "\n",
    "checkpoint = torch.load(model_file, map_location=device)\n",
    "conf = Config(checkpoint['conf'])\n",
    "\n",
    "trainer = Trainer(conf, input_dir, device, 1, checkpoint, subset=10)\n",
    "loader = trainer.val_loader\n",
    "model = trainer.model\n",
    "\n",
    "sigmoid = nn.Sigmoid()\n",
    "images, labels = iter(loader).next()\n",
    "model.eval()\n",
    "with torch.no_grad():\n",
    "    images = images.to(device)\n",
    "    outputs = model(images)\n",
    "    preds = sigmoid(outputs).round().cpu().numpy()\n",
    "\n",
    "# display this many images\n",
    "count = min(16, len(images))\n",
    "images, labels = images.numpy(), labels.numpy()\n",
    "start_slc = conf.num_slices//2 - 1\n",
    "for idx in range(count):\n",
    "    image, label, pred = images[idx], labels[idx], preds[idx]\n",
    "    image = image[start_slc:start_slc + 3]\n",
    "    visualize(image=image, label=label, prediction=pred)"
   ]
  }
 ],
 "metadata": {
  "kernelspec": {
   "display_name": "Python 3 (ipykernel)",
   "language": "python",
   "name": "python3"
  },
  "language_info": {
   "codemirror_mode": {
    "name": "ipython",
    "version": 3
   },
   "file_extension": ".py",
   "mimetype": "text/x-python",
   "name": "python",
   "nbconvert_exporter": "python",
   "pygments_lexer": "ipython3",
   "version": "3.8.10"
  }
 },
 "nbformat": 4,
 "nbformat_minor": 4
}
